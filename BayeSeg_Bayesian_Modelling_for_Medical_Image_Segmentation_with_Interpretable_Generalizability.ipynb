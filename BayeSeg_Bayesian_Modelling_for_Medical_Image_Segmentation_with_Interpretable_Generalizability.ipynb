{
  "nbformat": 4,
  "nbformat_minor": 0,
  "metadata": {
    "colab": {
      "provenance": [],
      "gpuType": "T4",
      "authorship_tag": "ABX9TyPFdydXXFRtO82OvezXAJ1t",
      "include_colab_link": true
    },
    "kernelspec": {
      "name": "python3",
      "display_name": "Python 3"
    },
    "language_info": {
      "name": "python"
    },
    "accelerator": "GPU"
  },
  "cells": [
    {
      "cell_type": "markdown",
      "metadata": {
        "id": "view-in-github",
        "colab_type": "text"
      },
      "source": [
        "<a href=\"https://colab.research.google.com/github/khanmhmdi/Moe-llm-edge-computing/blob/Beysian/BayeSeg_Bayesian_Modelling_for_Medical_Image_Segmentation_with_Interpretable_Generalizability.ipynb\" target=\"_parent\"><img src=\"https://colab.research.google.com/assets/colab-badge.svg\" alt=\"Open In Colab\"/></a>"
      ]
    },
    {
      "cell_type": "code",
      "execution_count": 1,
      "metadata": {
        "colab": {
          "base_uri": "https://localhost:8080/"
        },
        "id": "RvsPlu-kpt4Q",
        "outputId": "7c39b0d2-0a7e-4e92-c8ec-7ce9f4896a02"
      },
      "outputs": [
        {
          "output_type": "stream",
          "name": "stdout",
          "text": [
            "Cloning into 'BayeSeg'...\n",
            "remote: Enumerating objects: 32, done.\u001b[K\n",
            "remote: Counting objects: 100% (32/32), done.\u001b[K\n",
            "remote: Compressing objects: 100% (28/28), done.\u001b[K\n",
            "remote: Total 32 (delta 7), reused 22 (delta 2), pack-reused 0 (from 0)\u001b[K\n",
            "Receiving objects: 100% (32/32), 409.60 KiB | 1.73 MiB/s, done.\n",
            "Resolving deltas: 100% (7/7), done.\n"
          ]
        }
      ],
      "source": [
        "!git clone https://github.com/obiyoag/BayeSeg.git"
      ]
    },
    {
      "cell_type": "code",
      "source": [
        "%cd /content/BayeSeg"
      ],
      "metadata": {
        "colab": {
          "base_uri": "https://localhost:8080/"
        },
        "id": "5tDLwk1Fp5Le",
        "outputId": "f90b509c-809d-4e29-a3cd-7d1029ae6dcd"
      },
      "execution_count": 2,
      "outputs": [
        {
          "output_type": "stream",
          "name": "stdout",
          "text": [
            "/content/BayeSeg\n"
          ]
        }
      ]
    },
    {
      "cell_type": "code",
      "source": [
        "!pip install -r requirements.txt"
      ],
      "metadata": {
        "colab": {
          "base_uri": "https://localhost:8080/"
        },
        "id": "Q6v52vVBqD6X",
        "outputId": "74820875-2533-43a3-e89c-268ea488d823"
      },
      "execution_count": 3,
      "outputs": [
        {
          "output_type": "stream",
          "name": "stdout",
          "text": [
            "Collecting efficientunet-pytorch (from -r requirements.txt (line 1))\n",
            "  Downloading efficientunet-pytorch-0.0.6.tar.gz (8.2 kB)\n",
            "  Preparing metadata (setup.py) ... \u001b[?25l\u001b[?25hdone\n",
            "Requirement already satisfied: matplotlib in /usr/local/lib/python3.11/dist-packages (from -r requirements.txt (line 2)) (3.10.0)\n",
            "Requirement already satisfied: nibabel in /usr/local/lib/python3.11/dist-packages (from -r requirements.txt (line 3)) (5.3.2)\n",
            "Collecting monai (from -r requirements.txt (line 4))\n",
            "  Downloading monai-1.4.0-py3-none-any.whl.metadata (11 kB)\n",
            "Collecting tensorboardX (from -r requirements.txt (line 5))\n",
            "  Downloading tensorboardX-2.6.2.2-py2.py3-none-any.whl.metadata (5.8 kB)\n",
            "Requirement already satisfied: torch>=1.0.0 in /usr/local/lib/python3.11/dist-packages (from efficientunet-pytorch->-r requirements.txt (line 1)) (2.5.1+cu124)\n",
            "Requirement already satisfied: contourpy>=1.0.1 in /usr/local/lib/python3.11/dist-packages (from matplotlib->-r requirements.txt (line 2)) (1.3.1)\n",
            "Requirement already satisfied: cycler>=0.10 in /usr/local/lib/python3.11/dist-packages (from matplotlib->-r requirements.txt (line 2)) (0.12.1)\n",
            "Requirement already satisfied: fonttools>=4.22.0 in /usr/local/lib/python3.11/dist-packages (from matplotlib->-r requirements.txt (line 2)) (4.56.0)\n",
            "Requirement already satisfied: kiwisolver>=1.3.1 in /usr/local/lib/python3.11/dist-packages (from matplotlib->-r requirements.txt (line 2)) (1.4.8)\n",
            "Requirement already satisfied: numpy>=1.23 in /usr/local/lib/python3.11/dist-packages (from matplotlib->-r requirements.txt (line 2)) (1.26.4)\n",
            "Requirement already satisfied: packaging>=20.0 in /usr/local/lib/python3.11/dist-packages (from matplotlib->-r requirements.txt (line 2)) (24.2)\n",
            "Requirement already satisfied: pillow>=8 in /usr/local/lib/python3.11/dist-packages (from matplotlib->-r requirements.txt (line 2)) (11.1.0)\n",
            "Requirement already satisfied: pyparsing>=2.3.1 in /usr/local/lib/python3.11/dist-packages (from matplotlib->-r requirements.txt (line 2)) (3.2.1)\n",
            "Requirement already satisfied: python-dateutil>=2.7 in /usr/local/lib/python3.11/dist-packages (from matplotlib->-r requirements.txt (line 2)) (2.8.2)\n",
            "Requirement already satisfied: importlib-resources>=5.12 in /usr/local/lib/python3.11/dist-packages (from nibabel->-r requirements.txt (line 3)) (6.5.2)\n",
            "Requirement already satisfied: typing-extensions>=4.6 in /usr/local/lib/python3.11/dist-packages (from nibabel->-r requirements.txt (line 3)) (4.12.2)\n",
            "Requirement already satisfied: protobuf>=3.20 in /usr/local/lib/python3.11/dist-packages (from tensorboardX->-r requirements.txt (line 5)) (4.25.6)\n",
            "Requirement already satisfied: six>=1.5 in /usr/local/lib/python3.11/dist-packages (from python-dateutil>=2.7->matplotlib->-r requirements.txt (line 2)) (1.17.0)\n",
            "Requirement already satisfied: filelock in /usr/local/lib/python3.11/dist-packages (from torch>=1.0.0->efficientunet-pytorch->-r requirements.txt (line 1)) (3.17.0)\n",
            "Requirement already satisfied: networkx in /usr/local/lib/python3.11/dist-packages (from torch>=1.0.0->efficientunet-pytorch->-r requirements.txt (line 1)) (3.4.2)\n",
            "Requirement already satisfied: jinja2 in /usr/local/lib/python3.11/dist-packages (from torch>=1.0.0->efficientunet-pytorch->-r requirements.txt (line 1)) (3.1.5)\n",
            "Requirement already satisfied: fsspec in /usr/local/lib/python3.11/dist-packages (from torch>=1.0.0->efficientunet-pytorch->-r requirements.txt (line 1)) (2024.10.0)\n",
            "Collecting nvidia-cuda-nvrtc-cu12==12.4.127 (from torch>=1.0.0->efficientunet-pytorch->-r requirements.txt (line 1))\n",
            "  Downloading nvidia_cuda_nvrtc_cu12-12.4.127-py3-none-manylinux2014_x86_64.whl.metadata (1.5 kB)\n",
            "Collecting nvidia-cuda-runtime-cu12==12.4.127 (from torch>=1.0.0->efficientunet-pytorch->-r requirements.txt (line 1))\n",
            "  Downloading nvidia_cuda_runtime_cu12-12.4.127-py3-none-manylinux2014_x86_64.whl.metadata (1.5 kB)\n",
            "Collecting nvidia-cuda-cupti-cu12==12.4.127 (from torch>=1.0.0->efficientunet-pytorch->-r requirements.txt (line 1))\n",
            "  Downloading nvidia_cuda_cupti_cu12-12.4.127-py3-none-manylinux2014_x86_64.whl.metadata (1.6 kB)\n",
            "Collecting nvidia-cudnn-cu12==9.1.0.70 (from torch>=1.0.0->efficientunet-pytorch->-r requirements.txt (line 1))\n",
            "  Downloading nvidia_cudnn_cu12-9.1.0.70-py3-none-manylinux2014_x86_64.whl.metadata (1.6 kB)\n",
            "Collecting nvidia-cublas-cu12==12.4.5.8 (from torch>=1.0.0->efficientunet-pytorch->-r requirements.txt (line 1))\n",
            "  Downloading nvidia_cublas_cu12-12.4.5.8-py3-none-manylinux2014_x86_64.whl.metadata (1.5 kB)\n",
            "Collecting nvidia-cufft-cu12==11.2.1.3 (from torch>=1.0.0->efficientunet-pytorch->-r requirements.txt (line 1))\n",
            "  Downloading nvidia_cufft_cu12-11.2.1.3-py3-none-manylinux2014_x86_64.whl.metadata (1.5 kB)\n",
            "Collecting nvidia-curand-cu12==10.3.5.147 (from torch>=1.0.0->efficientunet-pytorch->-r requirements.txt (line 1))\n",
            "  Downloading nvidia_curand_cu12-10.3.5.147-py3-none-manylinux2014_x86_64.whl.metadata (1.5 kB)\n",
            "Collecting nvidia-cusolver-cu12==11.6.1.9 (from torch>=1.0.0->efficientunet-pytorch->-r requirements.txt (line 1))\n",
            "  Downloading nvidia_cusolver_cu12-11.6.1.9-py3-none-manylinux2014_x86_64.whl.metadata (1.6 kB)\n",
            "Collecting nvidia-cusparse-cu12==12.3.1.170 (from torch>=1.0.0->efficientunet-pytorch->-r requirements.txt (line 1))\n",
            "  Downloading nvidia_cusparse_cu12-12.3.1.170-py3-none-manylinux2014_x86_64.whl.metadata (1.6 kB)\n",
            "Requirement already satisfied: nvidia-nccl-cu12==2.21.5 in /usr/local/lib/python3.11/dist-packages (from torch>=1.0.0->efficientunet-pytorch->-r requirements.txt (line 1)) (2.21.5)\n",
            "Requirement already satisfied: nvidia-nvtx-cu12==12.4.127 in /usr/local/lib/python3.11/dist-packages (from torch>=1.0.0->efficientunet-pytorch->-r requirements.txt (line 1)) (12.4.127)\n",
            "Collecting nvidia-nvjitlink-cu12==12.4.127 (from torch>=1.0.0->efficientunet-pytorch->-r requirements.txt (line 1))\n",
            "  Downloading nvidia_nvjitlink_cu12-12.4.127-py3-none-manylinux2014_x86_64.whl.metadata (1.5 kB)\n",
            "Requirement already satisfied: triton==3.1.0 in /usr/local/lib/python3.11/dist-packages (from torch>=1.0.0->efficientunet-pytorch->-r requirements.txt (line 1)) (3.1.0)\n",
            "Requirement already satisfied: sympy==1.13.1 in /usr/local/lib/python3.11/dist-packages (from torch>=1.0.0->efficientunet-pytorch->-r requirements.txt (line 1)) (1.13.1)\n",
            "Requirement already satisfied: mpmath<1.4,>=1.1.0 in /usr/local/lib/python3.11/dist-packages (from sympy==1.13.1->torch>=1.0.0->efficientunet-pytorch->-r requirements.txt (line 1)) (1.3.0)\n",
            "Requirement already satisfied: MarkupSafe>=2.0 in /usr/local/lib/python3.11/dist-packages (from jinja2->torch>=1.0.0->efficientunet-pytorch->-r requirements.txt (line 1)) (3.0.2)\n",
            "Downloading monai-1.4.0-py3-none-any.whl (1.5 MB)\n",
            "\u001b[2K   \u001b[90m━━━━━━━━━━━━━━━━━━━━━━━━━━━━━━━━━━━━━━━━\u001b[0m \u001b[32m1.5/1.5 MB\u001b[0m \u001b[31m39.8 MB/s\u001b[0m eta \u001b[36m0:00:00\u001b[0m\n",
            "\u001b[?25hDownloading tensorboardX-2.6.2.2-py2.py3-none-any.whl (101 kB)\n",
            "\u001b[2K   \u001b[90m━━━━━━━━━━━━━━━━━━━━━━━━━━━━━━━━━━━━━━━━\u001b[0m \u001b[32m101.7/101.7 kB\u001b[0m \u001b[31m8.1 MB/s\u001b[0m eta \u001b[36m0:00:00\u001b[0m\n",
            "\u001b[?25hDownloading nvidia_cublas_cu12-12.4.5.8-py3-none-manylinux2014_x86_64.whl (363.4 MB)\n",
            "\u001b[2K   \u001b[90m━━━━━━━━━━━━━━━━━━━━━━━━━━━━━━━━━━━━━━━━\u001b[0m \u001b[32m363.4/363.4 MB\u001b[0m \u001b[31m4.4 MB/s\u001b[0m eta \u001b[36m0:00:00\u001b[0m\n",
            "\u001b[?25hDownloading nvidia_cuda_cupti_cu12-12.4.127-py3-none-manylinux2014_x86_64.whl (13.8 MB)\n",
            "\u001b[2K   \u001b[90m━━━━━━━━━━━━━━━━━━━━━━━━━━━━━━━━━━━━━━━━\u001b[0m \u001b[32m13.8/13.8 MB\u001b[0m \u001b[31m100.0 MB/s\u001b[0m eta \u001b[36m0:00:00\u001b[0m\n",
            "\u001b[?25hDownloading nvidia_cuda_nvrtc_cu12-12.4.127-py3-none-manylinux2014_x86_64.whl (24.6 MB)\n",
            "\u001b[2K   \u001b[90m━━━━━━━━━━━━━━━━━━━━━━━━━━━━━━━━━━━━━━━━\u001b[0m \u001b[32m24.6/24.6 MB\u001b[0m \u001b[31m77.4 MB/s\u001b[0m eta \u001b[36m0:00:00\u001b[0m\n",
            "\u001b[?25hDownloading nvidia_cuda_runtime_cu12-12.4.127-py3-none-manylinux2014_x86_64.whl (883 kB)\n",
            "\u001b[2K   \u001b[90m━━━━━━━━━━━━━━━━━━━━━━━━━━━━━━━━━━━━━━━━\u001b[0m \u001b[32m883.7/883.7 kB\u001b[0m \u001b[31m41.5 MB/s\u001b[0m eta \u001b[36m0:00:00\u001b[0m\n",
            "\u001b[?25hDownloading nvidia_cudnn_cu12-9.1.0.70-py3-none-manylinux2014_x86_64.whl (664.8 MB)\n",
            "\u001b[2K   \u001b[90m━━━━━━━━━━━━━━━━━━━━━━━━━━━━━━━━━━━━━━━━\u001b[0m \u001b[32m664.8/664.8 MB\u001b[0m \u001b[31m2.5 MB/s\u001b[0m eta \u001b[36m0:00:00\u001b[0m\n",
            "\u001b[?25hDownloading nvidia_cufft_cu12-11.2.1.3-py3-none-manylinux2014_x86_64.whl (211.5 MB)\n",
            "\u001b[2K   \u001b[90m━━━━━━━━━━━━━━━━━━━━━━━━━━━━━━━━━━━━━━━━\u001b[0m \u001b[32m211.5/211.5 MB\u001b[0m \u001b[31m5.5 MB/s\u001b[0m eta \u001b[36m0:00:00\u001b[0m\n",
            "\u001b[?25hDownloading nvidia_curand_cu12-10.3.5.147-py3-none-manylinux2014_x86_64.whl (56.3 MB)\n",
            "\u001b[2K   \u001b[90m━━━━━━━━━━━━━━━━━━━━━━━━━━━━━━━━━━━━━━━━\u001b[0m \u001b[32m56.3/56.3 MB\u001b[0m \u001b[31m9.8 MB/s\u001b[0m eta \u001b[36m0:00:00\u001b[0m\n",
            "\u001b[?25hDownloading nvidia_cusolver_cu12-11.6.1.9-py3-none-manylinux2014_x86_64.whl (127.9 MB)\n",
            "\u001b[2K   \u001b[90m━━━━━━━━━━━━━━━━━━━━━━━━━━━━━━━━━━━━━━━━\u001b[0m \u001b[32m127.9/127.9 MB\u001b[0m \u001b[31m6.8 MB/s\u001b[0m eta \u001b[36m0:00:00\u001b[0m\n",
            "\u001b[?25hDownloading nvidia_cusparse_cu12-12.3.1.170-py3-none-manylinux2014_x86_64.whl (207.5 MB)\n",
            "\u001b[2K   \u001b[90m━━━━━━━━━━━━━━━━━━━━━━━━━━━━━━━━━━━━━━━━\u001b[0m \u001b[32m207.5/207.5 MB\u001b[0m \u001b[31m6.2 MB/s\u001b[0m eta \u001b[36m0:00:00\u001b[0m\n",
            "\u001b[?25hDownloading nvidia_nvjitlink_cu12-12.4.127-py3-none-manylinux2014_x86_64.whl (21.1 MB)\n",
            "\u001b[2K   \u001b[90m━━━━━━━━━━━━━━━━━━━━━━━━━━━━━━━━━━━━━━━━\u001b[0m \u001b[32m21.1/21.1 MB\u001b[0m \u001b[31m43.5 MB/s\u001b[0m eta \u001b[36m0:00:00\u001b[0m\n",
            "\u001b[?25hBuilding wheels for collected packages: efficientunet-pytorch\n",
            "  Building wheel for efficientunet-pytorch (setup.py) ... \u001b[?25l\u001b[?25hdone\n",
            "  Created wheel for efficientunet-pytorch: filename=efficientunet_pytorch-0.0.6-py3-none-any.whl size=9440 sha256=c3ee496f60085f688d67a2ccb73a78dc4bbc393575571f92e23212f8ab38d544\n",
            "  Stored in directory: /root/.cache/pip/wheels/0a/5a/f2/4a78a9597fcd8476082cda1f3497a7c8855c639ba6ee8b1ed8\n",
            "Successfully built efficientunet-pytorch\n",
            "Installing collected packages: tensorboardX, nvidia-nvjitlink-cu12, nvidia-curand-cu12, nvidia-cufft-cu12, nvidia-cuda-runtime-cu12, nvidia-cuda-nvrtc-cu12, nvidia-cuda-cupti-cu12, nvidia-cublas-cu12, nvidia-cusparse-cu12, nvidia-cudnn-cu12, nvidia-cusolver-cu12, monai, efficientunet-pytorch\n",
            "  Attempting uninstall: nvidia-nvjitlink-cu12\n",
            "    Found existing installation: nvidia-nvjitlink-cu12 12.5.82\n",
            "    Uninstalling nvidia-nvjitlink-cu12-12.5.82:\n",
            "      Successfully uninstalled nvidia-nvjitlink-cu12-12.5.82\n",
            "  Attempting uninstall: nvidia-curand-cu12\n",
            "    Found existing installation: nvidia-curand-cu12 10.3.6.82\n",
            "    Uninstalling nvidia-curand-cu12-10.3.6.82:\n",
            "      Successfully uninstalled nvidia-curand-cu12-10.3.6.82\n",
            "  Attempting uninstall: nvidia-cufft-cu12\n",
            "    Found existing installation: nvidia-cufft-cu12 11.2.3.61\n",
            "    Uninstalling nvidia-cufft-cu12-11.2.3.61:\n",
            "      Successfully uninstalled nvidia-cufft-cu12-11.2.3.61\n",
            "  Attempting uninstall: nvidia-cuda-runtime-cu12\n",
            "    Found existing installation: nvidia-cuda-runtime-cu12 12.5.82\n",
            "    Uninstalling nvidia-cuda-runtime-cu12-12.5.82:\n",
            "      Successfully uninstalled nvidia-cuda-runtime-cu12-12.5.82\n",
            "  Attempting uninstall: nvidia-cuda-nvrtc-cu12\n",
            "    Found existing installation: nvidia-cuda-nvrtc-cu12 12.5.82\n",
            "    Uninstalling nvidia-cuda-nvrtc-cu12-12.5.82:\n",
            "      Successfully uninstalled nvidia-cuda-nvrtc-cu12-12.5.82\n",
            "  Attempting uninstall: nvidia-cuda-cupti-cu12\n",
            "    Found existing installation: nvidia-cuda-cupti-cu12 12.5.82\n",
            "    Uninstalling nvidia-cuda-cupti-cu12-12.5.82:\n",
            "      Successfully uninstalled nvidia-cuda-cupti-cu12-12.5.82\n",
            "  Attempting uninstall: nvidia-cublas-cu12\n",
            "    Found existing installation: nvidia-cublas-cu12 12.5.3.2\n",
            "    Uninstalling nvidia-cublas-cu12-12.5.3.2:\n",
            "      Successfully uninstalled nvidia-cublas-cu12-12.5.3.2\n",
            "  Attempting uninstall: nvidia-cusparse-cu12\n",
            "    Found existing installation: nvidia-cusparse-cu12 12.5.1.3\n",
            "    Uninstalling nvidia-cusparse-cu12-12.5.1.3:\n",
            "      Successfully uninstalled nvidia-cusparse-cu12-12.5.1.3\n",
            "  Attempting uninstall: nvidia-cudnn-cu12\n",
            "    Found existing installation: nvidia-cudnn-cu12 9.3.0.75\n",
            "    Uninstalling nvidia-cudnn-cu12-9.3.0.75:\n",
            "      Successfully uninstalled nvidia-cudnn-cu12-9.3.0.75\n",
            "  Attempting uninstall: nvidia-cusolver-cu12\n",
            "    Found existing installation: nvidia-cusolver-cu12 11.6.3.83\n",
            "    Uninstalling nvidia-cusolver-cu12-11.6.3.83:\n",
            "      Successfully uninstalled nvidia-cusolver-cu12-11.6.3.83\n",
            "Successfully installed efficientunet-pytorch-0.0.6 monai-1.4.0 nvidia-cublas-cu12-12.4.5.8 nvidia-cuda-cupti-cu12-12.4.127 nvidia-cuda-nvrtc-cu12-12.4.127 nvidia-cuda-runtime-cu12-12.4.127 nvidia-cudnn-cu12-9.1.0.70 nvidia-cufft-cu12-11.2.1.3 nvidia-curand-cu12-10.3.5.147 nvidia-cusolver-cu12-11.6.1.9 nvidia-cusparse-cu12-12.3.1.170 nvidia-nvjitlink-cu12-12.4.127 tensorboardX-2.6.2.2\n"
          ]
        }
      ]
    },
    {
      "cell_type": "code",
      "source": [
        "!pip install gdown\n"
      ],
      "metadata": {
        "colab": {
          "base_uri": "https://localhost:8080/"
        },
        "id": "Cj83rEz9rTyb",
        "outputId": "eaada3a7-7cf9-476b-9b10-1131949368c5"
      },
      "execution_count": 4,
      "outputs": [
        {
          "output_type": "stream",
          "name": "stdout",
          "text": [
            "Requirement already satisfied: gdown in /usr/local/lib/python3.11/dist-packages (5.2.0)\n",
            "Requirement already satisfied: beautifulsoup4 in /usr/local/lib/python3.11/dist-packages (from gdown) (4.13.3)\n",
            "Requirement already satisfied: filelock in /usr/local/lib/python3.11/dist-packages (from gdown) (3.17.0)\n",
            "Requirement already satisfied: requests[socks] in /usr/local/lib/python3.11/dist-packages (from gdown) (2.32.3)\n",
            "Requirement already satisfied: tqdm in /usr/local/lib/python3.11/dist-packages (from gdown) (4.67.1)\n",
            "Requirement already satisfied: soupsieve>1.2 in /usr/local/lib/python3.11/dist-packages (from beautifulsoup4->gdown) (2.6)\n",
            "Requirement already satisfied: typing-extensions>=4.0.0 in /usr/local/lib/python3.11/dist-packages (from beautifulsoup4->gdown) (4.12.2)\n",
            "Requirement already satisfied: charset-normalizer<4,>=2 in /usr/local/lib/python3.11/dist-packages (from requests[socks]->gdown) (3.4.1)\n",
            "Requirement already satisfied: idna<4,>=2.5 in /usr/local/lib/python3.11/dist-packages (from requests[socks]->gdown) (3.10)\n",
            "Requirement already satisfied: urllib3<3,>=1.21.1 in /usr/local/lib/python3.11/dist-packages (from requests[socks]->gdown) (2.3.0)\n",
            "Requirement already satisfied: certifi>=2017.4.17 in /usr/local/lib/python3.11/dist-packages (from requests[socks]->gdown) (2025.1.31)\n",
            "Requirement already satisfied: PySocks!=1.5.7,>=1.5.6 in /usr/local/lib/python3.11/dist-packages (from requests[socks]->gdown) (1.7.1)\n"
          ]
        }
      ]
    },
    {
      "cell_type": "code",
      "source": [
        "!gdown 1TtrjnlnJ1yqr5m4LUGMelKTQXtvZaru-"
      ],
      "metadata": {
        "colab": {
          "base_uri": "https://localhost:8080/"
        },
        "id": "xxb-7hQGqF9D",
        "outputId": "0ab5b4e0-cbb5-4316-f6f5-fe219cd97a9a"
      },
      "execution_count": 5,
      "outputs": [
        {
          "output_type": "stream",
          "name": "stdout",
          "text": [
            "Downloading...\n",
            "From (original): https://drive.google.com/uc?id=1TtrjnlnJ1yqr5m4LUGMelKTQXtvZaru-\n",
            "From (redirected): https://drive.google.com/uc?id=1TtrjnlnJ1yqr5m4LUGMelKTQXtvZaru-&confirm=t&uuid=b8aa1536-ad7a-4464-8412-b60ddcea6f55\n",
            "To: /content/BayeSeg/Processed_data_nii.zip\n",
            "100% 1.61G/1.61G [00:26<00:00, 61.8MB/s]\n"
          ]
        }
      ]
    },
    {
      "cell_type": "code",
      "source": [
        "!sudo apt-get install unzip\n"
      ],
      "metadata": {
        "colab": {
          "base_uri": "https://localhost:8080/"
        },
        "id": "prKuZLhsqTyA",
        "outputId": "dde840c5-8112-4bca-c629-ed6d1fa3628b"
      },
      "execution_count": 6,
      "outputs": [
        {
          "output_type": "stream",
          "name": "stdout",
          "text": [
            "Reading package lists... Done\n",
            "Building dependency tree... Done\n",
            "Reading state information... Done\n",
            "unzip is already the newest version (6.0-26ubuntu3.2).\n",
            "0 upgraded, 0 newly installed, 0 to remove and 22 not upgraded.\n"
          ]
        }
      ]
    },
    {
      "cell_type": "code",
      "source": [
        "!unzip /content/BayeSeg/Processed_data_nii.zip\n"
      ],
      "metadata": {
        "colab": {
          "base_uri": "https://localhost:8080/"
        },
        "collapsed": true,
        "id": "63Iht49ArBpf",
        "outputId": "d8ecaa9a-68d1-4f44-b51a-cd2c105322fe"
      },
      "execution_count": 7,
      "outputs": [
        {
          "output_type": "stream",
          "name": "stdout",
          "text": [
            "Archive:  /content/BayeSeg/Processed_data_nii.zip\n",
            "   creating: BIDMC/\n",
            "  inflating: BIDMC/Case00.nii.gz     \n",
            "  inflating: BIDMC/Case00_segmentation.nii.gz  \n",
            "  inflating: BIDMC/Case02.nii.gz     \n",
            "  inflating: BIDMC/Case02_segmentation.nii.gz  \n",
            "  inflating: BIDMC/Case03.nii.gz     \n",
            "  inflating: BIDMC/Case03_segmentation.nii.gz  \n",
            "  inflating: BIDMC/Case04.nii.gz     \n",
            "  inflating: BIDMC/Case04_segmentation.nii.gz  \n",
            "  inflating: BIDMC/Case05.nii.gz     \n",
            "  inflating: BIDMC/Case05_segmentation.nii.gz  \n",
            "  inflating: BIDMC/Case06.nii.gz     \n",
            "  inflating: BIDMC/Case06_segmentation.nii.gz  \n",
            "  inflating: BIDMC/Case07.nii.gz     \n",
            "  inflating: BIDMC/Case07_segmentation.nii.gz  \n",
            "  inflating: BIDMC/Case08.nii.gz     \n",
            "  inflating: BIDMC/Case08_segmentation.nii.gz  \n",
            "  inflating: BIDMC/Case09.nii.gz     \n",
            "  inflating: BIDMC/Case09_segmentation.nii.gz  \n",
            "  inflating: BIDMC/Case10.nii.gz     \n",
            "  inflating: BIDMC/Case10_segmentation.nii.gz  \n",
            "  inflating: BIDMC/Case11.nii.gz     \n",
            "  inflating: BIDMC/Case11_segmentation.nii.gz  \n",
            "  inflating: BIDMC/Case12.nii.gz     \n",
            "  inflating: BIDMC/Case12_segmentation.nii.gz  \n",
            "   creating: BMC/\n",
            " extracting: BMC/Case00.nii.gz       \n",
            "  inflating: BMC/Case00_Segmentation.nii.gz  \n",
            " extracting: BMC/Case01.nii.gz       \n",
            "  inflating: BMC/Case01_Segmentation.nii.gz  \n",
            " extracting: BMC/Case02.nii.gz       \n",
            "  inflating: BMC/Case02_Segmentation.nii.gz  \n",
            " extracting: BMC/Case03.nii.gz       \n",
            "  inflating: BMC/Case03_Segmentation.nii.gz  \n",
            " extracting: BMC/Case04.nii.gz       \n",
            "  inflating: BMC/Case04_Segmentation.nii.gz  \n",
            " extracting: BMC/Case05.nii.gz       \n",
            "  inflating: BMC/Case05_Segmentation.nii.gz  \n",
            " extracting: BMC/Case06.nii.gz       \n",
            "  inflating: BMC/Case06_Segmentation.nii.gz  \n",
            " extracting: BMC/Case07.nii.gz       \n",
            "  inflating: BMC/Case07_Segmentation.nii.gz  \n",
            " extracting: BMC/Case08.nii.gz       \n",
            "  inflating: BMC/Case08_Segmentation.nii.gz  \n",
            " extracting: BMC/Case09.nii.gz       \n",
            "  inflating: BMC/Case09_Segmentation.nii.gz  \n",
            " extracting: BMC/Case10.nii.gz       \n",
            "  inflating: BMC/Case10_Segmentation.nii.gz  \n",
            " extracting: BMC/Case11.nii.gz       \n",
            "  inflating: BMC/Case11_Segmentation.nii.gz  \n",
            " extracting: BMC/Case12.nii.gz       \n",
            "  inflating: BMC/Case12_Segmentation.nii.gz  \n",
            " extracting: BMC/Case13.nii.gz       \n",
            "  inflating: BMC/Case13_Segmentation.nii.gz  \n",
            " extracting: BMC/Case14.nii.gz       \n",
            "  inflating: BMC/Case14_Segmentation.nii.gz  \n",
            " extracting: BMC/Case15.nii.gz       \n",
            "  inflating: BMC/Case15_Segmentation.nii.gz  \n",
            " extracting: BMC/Case16.nii.gz       \n",
            "  inflating: BMC/Case16_Segmentation.nii.gz  \n",
            " extracting: BMC/Case17.nii.gz       \n",
            "  inflating: BMC/Case17_Segmentation.nii.gz  \n",
            " extracting: BMC/Case18.nii.gz       \n",
            "  inflating: BMC/Case18_Segmentation.nii.gz  \n",
            " extracting: BMC/Case19.nii.gz       \n",
            "  inflating: BMC/Case19_Segmentation.nii.gz  \n",
            " extracting: BMC/Case20.nii.gz       \n",
            "  inflating: BMC/Case20_Segmentation.nii.gz  \n",
            " extracting: BMC/Case21.nii.gz       \n",
            "  inflating: BMC/Case21_Segmentation.nii.gz  \n",
            " extracting: BMC/Case22.nii.gz       \n",
            "  inflating: BMC/Case22_Segmentation.nii.gz  \n",
            " extracting: BMC/Case23.nii.gz       \n",
            "  inflating: BMC/Case23_Segmentation.nii.gz  \n",
            " extracting: BMC/Case24.nii.gz       \n",
            "  inflating: BMC/Case24_Segmentation.nii.gz  \n",
            " extracting: BMC/Case25.nii.gz       \n",
            "  inflating: BMC/Case25_Segmentation.nii.gz  \n",
            " extracting: BMC/Case26.nii.gz       \n",
            "  inflating: BMC/Case26_Segmentation.nii.gz  \n",
            " extracting: BMC/Case27.nii.gz       \n",
            "  inflating: BMC/Case27_Segmentation.nii.gz  \n",
            " extracting: BMC/Case28.nii.gz       \n",
            "  inflating: BMC/Case28_Segmentation.nii.gz  \n",
            "  inflating: BMC/Case29.nii.gz       \n",
            "  inflating: BMC/Case29_Segmentation.nii.gz  \n",
            "   creating: HK/\n",
            "  inflating: HK/Case38.nii.gz        \n",
            "  inflating: HK/Case38_segmentation.nii.gz  \n",
            "  inflating: HK/Case39.nii.gz        \n",
            "  inflating: HK/Case39_segmentation.nii.gz  \n",
            "  inflating: HK/Case40.nii.gz        \n",
            "  inflating: HK/Case40_segmentation.nii.gz  \n",
            "  inflating: HK/Case41.nii.gz        \n",
            "  inflating: HK/Case41_segmentation.nii.gz  \n",
            "  inflating: HK/Case42.nii.gz        \n",
            "  inflating: HK/Case42_segmentation.nii.gz  \n",
            "  inflating: HK/Case43.nii.gz        \n",
            "  inflating: HK/Case43_segmentation.nii.gz  \n",
            "  inflating: HK/Case44.nii.gz        \n",
            "  inflating: HK/Case44_segmentation.nii.gz  \n",
            "  inflating: HK/Case45.nii.gz        \n",
            "  inflating: HK/Case45_segmentation.nii.gz  \n",
            "  inflating: HK/Case46.nii.gz        \n",
            "  inflating: HK/Case46_segmentation.nii.gz  \n",
            "  inflating: HK/Case47.nii.gz        \n",
            "  inflating: HK/Case47_segmentation.nii.gz  \n",
            "  inflating: HK/Case48.nii.gz        \n",
            "  inflating: HK/Case48_segmentation.nii.gz  \n",
            "  inflating: HK/Case49.nii.gz        \n",
            "  inflating: HK/Case49_segmentation.nii.gz  \n",
            "   creating: I2CVB/\n",
            " extracting: I2CVB/Case00.nii.gz     \n",
            "  inflating: I2CVB/Case00_segmentation.nii.gz  \n",
            " extracting: I2CVB/Case01.nii.gz     \n",
            "  inflating: I2CVB/Case01_segmentation.nii.gz  \n",
            " extracting: I2CVB/Case02.nii.gz     \n",
            "  inflating: I2CVB/Case02_segmentation.nii.gz  \n",
            " extracting: I2CVB/Case03.nii.gz     \n",
            "  inflating: I2CVB/Case03_segmentation.nii.gz  \n",
            " extracting: I2CVB/Case04.nii.gz     \n",
            "  inflating: I2CVB/Case04_segmentation.nii.gz  \n",
            " extracting: I2CVB/Case05.nii.gz     \n",
            "  inflating: I2CVB/Case05_segmentation.nii.gz  \n",
            " extracting: I2CVB/Case06.nii.gz     \n",
            "  inflating: I2CVB/Case06_segmentation.nii.gz  \n",
            " extracting: I2CVB/Case07.nii.gz     \n",
            "  inflating: I2CVB/Case07_segmentation.nii.gz  \n",
            " extracting: I2CVB/Case08.nii.gz     \n",
            "  inflating: I2CVB/Case08_segmentation.nii.gz  \n",
            " extracting: I2CVB/Case09.nii.gz     \n",
            "  inflating: I2CVB/Case09_segmentation.nii.gz  \n",
            " extracting: I2CVB/Case10.nii.gz     \n",
            "  inflating: I2CVB/Case10_segmentation.nii.gz  \n",
            " extracting: I2CVB/Case11.nii.gz     \n",
            "  inflating: I2CVB/Case11_segmentation.nii.gz  \n",
            " extracting: I2CVB/Case12.nii.gz     \n",
            "  inflating: I2CVB/Case12_segmentation.nii.gz  \n",
            " extracting: I2CVB/Case13.nii.gz     \n",
            "  inflating: I2CVB/Case13_segmentation.nii.gz  \n",
            " extracting: I2CVB/Case14.nii.gz     \n",
            "  inflating: I2CVB/Case14_segmentation.nii.gz  \n",
            " extracting: I2CVB/Case15.nii.gz     \n",
            "  inflating: I2CVB/Case15_segmentation.nii.gz  \n",
            " extracting: I2CVB/Case16.nii.gz     \n",
            "  inflating: I2CVB/Case16_segmentation.nii.gz  \n",
            " extracting: I2CVB/Case17.nii.gz     \n",
            "  inflating: I2CVB/Case17_segmentation.nii.gz  \n",
            " extracting: I2CVB/Case18.nii.gz     \n",
            "  inflating: I2CVB/Case18_segmentation.nii.gz  \n",
            "   creating: RUNMC/\n",
            "  inflating: RUNMC/Case00.nii.gz     \n",
            "  inflating: RUNMC/Case00_segmentation.nii.gz  \n",
            "  inflating: RUNMC/Case01.nii.gz     \n",
            "  inflating: RUNMC/Case01_segmentation.nii.gz  \n",
            "  inflating: RUNMC/Case02.nii.gz     \n",
            "  inflating: RUNMC/Case02_segmentation.nii.gz  \n",
            "  inflating: RUNMC/Case03.nii.gz     \n",
            "  inflating: RUNMC/Case03_segmentation.nii.gz  \n",
            "  inflating: RUNMC/Case04.nii.gz     \n",
            "  inflating: RUNMC/Case04_segmentation.nii.gz  \n",
            "  inflating: RUNMC/Case05.nii.gz     \n",
            "  inflating: RUNMC/Case05_segmentation.nii.gz  \n",
            "  inflating: RUNMC/Case06.nii.gz     \n",
            "  inflating: RUNMC/Case06_segmentation.nii.gz  \n",
            "  inflating: RUNMC/Case07.nii.gz     \n",
            "  inflating: RUNMC/Case07_segmentation.nii.gz  \n",
            "  inflating: RUNMC/Case08.nii.gz     \n",
            "  inflating: RUNMC/Case08_segmentation.nii.gz  \n",
            "  inflating: RUNMC/Case09.nii.gz     \n",
            "  inflating: RUNMC/Case09_segmentation.nii.gz  \n",
            "  inflating: RUNMC/Case10.nii.gz     \n",
            "  inflating: RUNMC/Case10_segmentation.nii.gz  \n",
            "  inflating: RUNMC/Case11.nii.gz     \n",
            "  inflating: RUNMC/Case11_segmentation.nii.gz  \n",
            "  inflating: RUNMC/Case12.nii.gz     \n",
            "  inflating: RUNMC/Case12_segmentation.nii.gz  \n",
            "  inflating: RUNMC/Case13.nii.gz     \n",
            "  inflating: RUNMC/Case13_segmentation.nii.gz  \n",
            "  inflating: RUNMC/Case14.nii.gz     \n",
            "  inflating: RUNMC/Case14_segmentation.nii.gz  \n",
            "  inflating: RUNMC/Case15.nii.gz     \n",
            "  inflating: RUNMC/Case15_segmentation.nii.gz  \n",
            "  inflating: RUNMC/Case16.nii.gz     \n",
            "  inflating: RUNMC/Case16_segmentation.nii.gz  \n",
            "  inflating: RUNMC/Case17.nii.gz     \n",
            "  inflating: RUNMC/Case17_segmentation.nii.gz  \n",
            "  inflating: RUNMC/Case18.nii.gz     \n",
            "  inflating: RUNMC/Case18_segmentation.nii.gz  \n",
            "  inflating: RUNMC/Case19.nii.gz     \n",
            "  inflating: RUNMC/Case19_segmentation.nii.gz  \n",
            "  inflating: RUNMC/Case20.nii.gz     \n",
            "  inflating: RUNMC/Case20_segmentation.nii.gz  \n",
            "  inflating: RUNMC/Case21.nii.gz     \n",
            "  inflating: RUNMC/Case21_segmentation.nii.gz  \n",
            "  inflating: RUNMC/Case22.nii.gz     \n",
            "  inflating: RUNMC/Case22_segmentation.nii.gz  \n",
            "  inflating: RUNMC/Case23.nii.gz     \n",
            "  inflating: RUNMC/Case23_segmentation.nii.gz  \n",
            "  inflating: RUNMC/Case24.nii.gz     \n",
            "  inflating: RUNMC/Case24_segmentation.nii.gz  \n",
            "  inflating: RUNMC/Case25.nii.gz     \n",
            "  inflating: RUNMC/Case25_segmentation.nii.gz  \n",
            "  inflating: RUNMC/Case26.nii.gz     \n",
            "  inflating: RUNMC/Case26_segmentation.nii.gz  \n",
            "  inflating: RUNMC/Case27.nii.gz     \n",
            "  inflating: RUNMC/Case27_segmentation.nii.gz  \n",
            "  inflating: RUNMC/Case28.nii.gz     \n",
            "  inflating: RUNMC/Case28_segmentation.nii.gz  \n",
            "  inflating: RUNMC/Case29.nii.gz     \n",
            "  inflating: RUNMC/Case29_segmentation.nii.gz  \n",
            "   creating: UCL/\n",
            "  inflating: UCL/Case01.nii.gz       \n",
            "  inflating: UCL/Case01_segmentation.nii.gz  \n",
            "  inflating: UCL/Case26.nii.gz       \n",
            "  inflating: UCL/Case26_segmentation.nii.gz  \n",
            "  inflating: UCL/Case27.nii.gz       \n",
            "  inflating: UCL/Case27_segmentation.nii.gz  \n",
            "  inflating: UCL/Case28.nii.gz       \n",
            "  inflating: UCL/Case28_segmentation.nii.gz  \n",
            "  inflating: UCL/Case29.nii.gz       \n",
            "  inflating: UCL/Case29_segmentation.nii.gz  \n",
            "  inflating: UCL/Case30.nii.gz       \n",
            "  inflating: UCL/Case30_segmentation.nii.gz  \n",
            "  inflating: UCL/Case31.nii.gz       \n",
            "  inflating: UCL/Case31_segmentation.nii.gz  \n",
            "  inflating: UCL/Case32.nii.gz       \n",
            "  inflating: UCL/Case32_segmentation.nii.gz  \n",
            "  inflating: UCL/Case33.nii.gz       \n",
            "  inflating: UCL/Case33_segmentation.nii.gz  \n",
            "  inflating: UCL/Case34.nii.gz       \n",
            "  inflating: UCL/Case34_segmentation.nii.gz  \n",
            "  inflating: UCL/Case35.nii.gz       \n",
            "  inflating: UCL/Case35_segmentation.nii.gz  \n",
            "  inflating: UCL/Case36.nii.gz       \n",
            "  inflating: UCL/Case36_segmentation.nii.gz  \n",
            "  inflating: UCL/Case37.nii.gz       \n",
            "  inflating: UCL/Case37_segmentation.nii.gz  \n"
          ]
        }
      ]
    },
    {
      "cell_type": "code",
      "source": [
        "!unzip /content/BayeSeg/training_data.zip"
      ],
      "metadata": {
        "colab": {
          "base_uri": "https://localhost:8080/"
        },
        "collapsed": true,
        "id": "AzGCjob5znod",
        "outputId": "f67adaa6-fc5c-4598-c653-f01b27162e3d"
      },
      "execution_count": 21,
      "outputs": [
        {
          "output_type": "stream",
          "name": "stdout",
          "text": [
            "Archive:  /content/BayeSeg/training_data.zip\n",
            "  inflating: Case00.mhd              \n",
            "  inflating: Case00.raw              \n",
            "  inflating: Case00_segmentation.mhd  \n",
            "  inflating: Case00_segmentation.raw  \n",
            "  inflating: Case01.mhd              \n",
            "  inflating: Case01.raw              \n",
            "  inflating: Case01_segmentation.mhd  \n",
            "  inflating: Case01_segmentation.raw  \n",
            "  inflating: Case02.mhd              \n",
            "  inflating: Case02.raw              \n",
            "  inflating: Case02_segmentation.mhd  \n",
            "  inflating: Case02_segmentation.raw  \n",
            "  inflating: Case03.mhd              \n",
            "  inflating: Case03.raw              \n",
            "  inflating: Case03_segmentation.mhd  \n",
            "  inflating: Case03_segmentation.raw  \n",
            "  inflating: Case04.mhd              \n",
            "  inflating: Case04.raw              \n",
            "  inflating: Case04_segmentation.mhd  \n",
            "  inflating: Case04_segmentation.raw  \n",
            "  inflating: Case05.mhd              \n",
            "  inflating: Case05.raw              \n",
            "  inflating: Case05_segmentation.mhd  \n",
            "  inflating: Case05_segmentation.raw  \n",
            "  inflating: Case06.mhd              \n",
            "  inflating: Case06.raw              \n",
            "  inflating: Case06_segmentation.mhd  \n",
            "  inflating: Case06_segmentation.raw  \n",
            "  inflating: Case07.mhd              \n",
            "  inflating: Case07.raw              \n",
            "  inflating: Case07_segmentation.mhd  \n",
            "  inflating: Case07_segmentation.raw  \n",
            "  inflating: Case08.mhd              \n",
            "  inflating: Case08.raw              \n",
            "  inflating: Case08_segmentation.mhd  \n",
            "  inflating: Case08_segmentation.raw  \n",
            "  inflating: Case09.mhd              \n",
            "  inflating: Case09.raw              \n",
            "  inflating: Case09_segmentation.mhd  \n",
            "  inflating: Case09_segmentation.raw  \n",
            "  inflating: Case10.mhd              \n",
            "  inflating: Case10.raw              \n",
            "  inflating: Case10_segmentation.mhd  \n",
            "  inflating: Case10_segmentation.raw  \n",
            "  inflating: Case11.mhd              \n",
            "  inflating: Case11.raw              \n",
            "  inflating: Case11_segmentation.mhd  \n",
            "  inflating: Case11_segmentation.raw  \n",
            "  inflating: Case12.mhd              \n",
            "  inflating: Case12.raw              \n",
            "  inflating: Case12_segmentation.mhd  \n",
            "  inflating: Case12_segmentation.raw  \n",
            "  inflating: Case13.mhd              \n",
            "  inflating: Case13.raw              \n",
            "  inflating: Case13_segmentation.mhd  \n",
            "  inflating: Case13_segmentation.raw  \n",
            "  inflating: Case14.mhd              \n",
            "  inflating: Case14.raw              \n",
            "  inflating: Case14_segmentation.mhd  \n",
            "  inflating: Case14_segmentation.raw  \n",
            "  inflating: Case15.mhd              \n",
            "  inflating: Case15.raw              \n",
            "  inflating: Case15_segmentation.mhd  \n",
            "  inflating: Case15_segmentation.raw  \n",
            "  inflating: Case16.mhd              \n",
            "  inflating: Case16.raw              \n",
            "  inflating: Case16_segmentation.mhd  \n",
            "  inflating: Case16_segmentation.raw  \n",
            "  inflating: Case17.mhd              \n",
            "  inflating: Case17.raw              \n",
            "  inflating: Case17_segmentation.mhd  \n",
            "  inflating: Case17_segmentation.raw  \n",
            "  inflating: Case18.mhd              \n",
            "  inflating: Case18.raw              \n",
            "  inflating: Case18_segmentation.mhd  \n",
            "  inflating: Case18_segmentation.raw  \n",
            "  inflating: Case19.mhd              \n",
            "  inflating: Case19.raw              \n",
            "  inflating: Case19_segmentation.mhd  \n",
            "  inflating: Case19_segmentation.raw  \n",
            "  inflating: Case20.mhd              \n",
            "  inflating: Case20.raw              \n",
            "  inflating: Case20_segmentation.mhd  \n",
            "  inflating: Case20_segmentation.raw  \n",
            "  inflating: Case21.mhd              \n",
            "  inflating: Case21.raw              \n",
            "  inflating: Case21_segmentation.mhd  \n",
            "  inflating: Case21_segmentation.raw  \n",
            "  inflating: Case22.mhd              \n",
            "  inflating: Case22.raw              \n",
            "  inflating: Case22_segmentation.mhd  \n",
            "  inflating: Case22_segmentation.raw  \n",
            "  inflating: Case23.mhd              \n",
            "  inflating: Case23.raw              \n",
            "  inflating: Case23_segmentation.mhd  \n",
            "  inflating: Case23_segmentation.raw  \n",
            "  inflating: Case24.mhd              \n",
            "  inflating: Case24.raw              \n",
            "  inflating: Case24_segmentation.mhd  \n",
            "  inflating: Case24_segmentation.raw  \n",
            "  inflating: Case25.mhd              \n",
            "  inflating: Case25.raw              \n",
            "  inflating: Case25_segmentation.mhd  \n",
            "  inflating: Case25_segmentation.raw  \n",
            "  inflating: Case26.mhd              \n",
            "  inflating: Case26.raw              \n",
            "  inflating: Case26_segmentation.mhd  \n",
            "  inflating: Case26_segmentation.raw  \n",
            "  inflating: Case27.mhd              \n",
            "  inflating: Case27.raw              \n",
            "  inflating: Case27_segmentation.mhd  \n",
            "  inflating: Case27_segmentation.raw  \n",
            "  inflating: Case28.mhd              \n",
            "  inflating: Case28.raw              \n",
            "  inflating: Case28_segmentation.mhd  \n",
            "  inflating: Case28_segmentation.raw  \n",
            "  inflating: Case29.mhd              \n",
            "  inflating: Case29.raw              \n",
            "  inflating: Case29_segmentation.mhd  \n",
            "  inflating: Case29_segmentation.raw  \n",
            "  inflating: Case30.mhd              \n",
            "  inflating: Case30.raw              \n",
            "  inflating: Case30_segmentation.mhd  \n",
            "  inflating: Case30_segmentation.raw  \n",
            "  inflating: Case31.mhd              \n",
            "  inflating: Case31.raw              \n",
            "  inflating: Case31_segmentation.mhd  \n",
            "  inflating: Case31_segmentation.raw  \n",
            "  inflating: Case32.mhd              \n",
            "  inflating: Case32.raw              \n",
            "  inflating: Case32_segmentation.mhd  \n",
            "  inflating: Case32_segmentation.raw  \n",
            "  inflating: Case33.mhd              \n",
            "  inflating: Case33.raw              \n",
            "  inflating: Case33_segmentation.mhd  \n",
            "  inflating: Case33_segmentation.raw  \n",
            "  inflating: Case34.mhd              \n",
            "  inflating: Case34.raw              \n",
            "  inflating: Case34_segmentation.mhd  \n",
            "  inflating: Case34_segmentation.raw  \n",
            "  inflating: Case35.mhd              \n",
            "  inflating: Case35.raw              \n",
            "  inflating: Case35_segmentation.mhd  \n",
            "  inflating: Case35_segmentation.raw  \n",
            "  inflating: Case36.mhd              \n",
            "  inflating: Case36.raw              \n",
            "  inflating: Case36_segmentation.mhd  \n",
            "  inflating: Case36_segmentation.raw  \n",
            "  inflating: Case37.mhd              \n",
            "  inflating: Case37.raw              \n",
            "  inflating: Case37_segmentation.mhd  \n",
            "  inflating: Case37_segmentation.raw  \n",
            "  inflating: Case38.mhd              \n",
            "  inflating: Case38.raw              \n",
            "  inflating: Case38_segmentation.mhd  \n",
            "  inflating: Case38_segmentation.raw  \n",
            "  inflating: Case39.mhd              \n",
            "  inflating: Case39.raw              \n",
            "  inflating: Case39_segmentation.mhd  \n",
            "  inflating: Case39_segmentation.raw  \n",
            "  inflating: Case40.mhd              \n",
            "  inflating: Case40.raw              \n",
            "  inflating: Case40_segmentation.mhd  \n",
            "  inflating: Case40_segmentation.raw  \n",
            "  inflating: Case41.mhd              \n",
            "  inflating: Case41.raw              \n",
            "  inflating: Case41_segmentation.mhd  \n",
            "  inflating: Case41_segmentation.raw  \n",
            "  inflating: Case42.mhd              \n",
            "  inflating: Case42.raw              \n",
            "  inflating: Case42_segmentation.mhd  \n",
            "  inflating: Case42_segmentation.raw  \n",
            "  inflating: Case43.mhd              \n",
            "  inflating: Case43.raw              \n",
            "  inflating: Case43_segmentation.mhd  \n",
            "  inflating: Case43_segmentation.raw  \n",
            "  inflating: Case44.mhd              \n",
            "  inflating: Case44.raw              \n",
            "  inflating: Case44_segmentation.mhd  \n",
            "  inflating: Case44_segmentation.raw  \n",
            "  inflating: Case45.mhd              \n",
            "  inflating: Case45.raw              \n",
            "  inflating: Case45_segmentation.mhd  \n",
            "  inflating: Case45_segmentation.raw  \n",
            "  inflating: Case46.mhd              \n",
            "  inflating: Case46.raw              \n",
            "  inflating: Case46_segmentation.mhd  \n",
            "  inflating: Case46_segmentation.raw  \n",
            "  inflating: Case47.mhd              \n",
            "  inflating: Case47.raw              \n",
            "  inflating: Case47_segmentation.mhd  \n",
            "  inflating: Case47_segmentation.raw  \n",
            "  inflating: Case48.mhd              \n",
            "  inflating: Case48.raw              \n",
            "  inflating: Case48_segmentation.mhd  \n",
            "  inflating: Case48_segmentation.raw  \n",
            "  inflating: Case49.mhd              \n",
            "  inflating: Case49.raw              \n",
            "  inflating: Case49_segmentation.mhd  \n",
            "  inflating: Case49_segmentation.raw  \n"
          ]
        }
      ]
    },
    {
      "cell_type": "code",
      "source": [
        "!wget https://zenodo.org/records/8026660/files/training_data.zip?download=1"
      ],
      "metadata": {
        "colab": {
          "base_uri": "https://localhost:8080/"
        },
        "id": "6YxCAdLavAuJ",
        "outputId": "bf490cb4-b599-4b7c-fe19-6d67e1515926"
      },
      "execution_count": 18,
      "outputs": [
        {
          "output_type": "stream",
          "name": "stdout",
          "text": [
            "--2025-02-26 10:15:17--  https://zenodo.org/records/8026660/files/training_data.zip?download=1\n",
            "Resolving zenodo.org (zenodo.org)... 188.185.43.25, 188.185.48.194, 188.185.45.92, ...\n",
            "Connecting to zenodo.org (zenodo.org)|188.185.43.25|:443... connected.\n",
            "HTTP request sent, awaiting response... 200 OK\n",
            "Length: 323664221 (309M) [application/octet-stream]\n",
            "Saving to: ‘training_data.zip?download=1’\n",
            "\n",
            "training_data.zip?d 100%[===================>] 308.67M   622KB/s    in 9m 18s  \n",
            "\n",
            "2025-02-26 10:24:36 (566 KB/s) - ‘training_data.zip?download=1’ saved [323664221/323664221]\n",
            "\n"
          ]
        }
      ]
    },
    {
      "cell_type": "code",
      "source": [
        "!wget https://zenodo.org/records/8026660/files/livechallenge_test_data.zip?download=1"
      ],
      "metadata": {
        "colab": {
          "base_uri": "https://localhost:8080/"
        },
        "id": "YbW2vv-LwvGg",
        "outputId": "411a9f55-c655-40fc-c056-a0fa4113456c"
      },
      "execution_count": 19,
      "outputs": [
        {
          "output_type": "stream",
          "name": "stdout",
          "text": [
            "--2025-02-26 10:24:36--  https://zenodo.org/records/8026660/files/livechallenge_test_data.zip?download=1\n",
            "Resolving zenodo.org (zenodo.org)... 188.185.48.194, 188.185.43.25, 188.185.45.92, ...\n",
            "Connecting to zenodo.org (zenodo.org)|188.185.48.194|:443... connected.\n",
            "HTTP request sent, awaiting response... 200 OK\n",
            "Length: 119669543 (114M) [application/octet-stream]\n",
            "Saving to: ‘livechallenge_test_data.zip?download=1’\n",
            "\n",
            "livechallenge_test_ 100%[===================>] 114.12M  10.8MB/s    in 84s     \n",
            "\n",
            "2025-02-26 10:26:01 (1.36 MB/s) - ‘livechallenge_test_data.zip?download=1’ saved [119669543/119669543]\n",
            "\n"
          ]
        }
      ]
    },
    {
      "cell_type": "code",
      "source": [
        "!wget https://zenodo.org/records/8026660/files/test_data.zip?download=1"
      ],
      "metadata": {
        "colab": {
          "base_uri": "https://localhost:8080/"
        },
        "id": "_lvrYCizww97",
        "outputId": "728932d9-7c3d-4270-c760-a9049852f186"
      },
      "execution_count": 20,
      "outputs": [
        {
          "output_type": "stream",
          "name": "stdout",
          "text": [
            "--2025-02-26 10:26:01--  https://zenodo.org/records/8026660/files/test_data.zip?download=1\n",
            "Resolving zenodo.org (zenodo.org)... 188.185.45.92, 188.185.43.25, 188.185.48.194, ...\n",
            "Connecting to zenodo.org (zenodo.org)|188.185.45.92|:443... connected.\n",
            "HTTP request sent, awaiting response... 200 OK\n",
            "Length: 194659961 (186M) [application/octet-stream]\n",
            "Saving to: ‘test_data.zip?download=1’\n",
            "\n",
            "test_data.zip?downl 100%[===================>] 185.64M  3.32MB/s    in 3m 11s  \n",
            "\n",
            "2025-02-26 10:29:13 (996 KB/s) - ‘test_data.zip?download=1’ saved [194659961/194659961]\n",
            "\n"
          ]
        }
      ]
    },
    {
      "cell_type": "code",
      "source": [],
      "metadata": {
        "id": "0mhG1u3xzYbv"
      },
      "execution_count": null,
      "outputs": []
    },
    {
      "cell_type": "code",
      "source": [
        "!python train.py --output_dir logs/BayeSeg --dataset_dir \"/content/BayeSeg/RUNMC/\""
      ],
      "metadata": {
        "colab": {
          "base_uri": "https://localhost:8080/"
        },
        "id": "RdVG7LUUsEUn",
        "outputId": "d1635fc8-541a-4253-9cea-ec72122634e6"
      },
      "execution_count": 17,
      "outputs": [
        {
          "output_type": "stream",
          "name": "stdout",
          "text": [
            "2025-02-26 10:13:27.471873: E external/local_xla/xla/stream_executor/cuda/cuda_fft.cc:477] Unable to register cuFFT factory: Attempting to register factory for plugin cuFFT when one has already been registered\n",
            "WARNING: All log messages before absl::InitializeLog() is called are written to STDERR\n",
            "E0000 00:00:1740564807.492605    3936 cuda_dnn.cc:8310] Unable to register cuDNN factory: Attempting to register factory for plugin cuDNN when one has already been registered\n",
            "E0000 00:00:1740564807.499043    3936 cuda_blas.cc:1418] Unable to register cuBLAS factory: Attempting to register factory for plugin cuBLAS when one has already been registered\n",
            "2025-02-26 10:13:27.519779: I tensorflow/core/platform/cpu_feature_guard.cc:210] This TensorFlow binary is optimized to use available CPU instructions in performance-critical operations.\n",
            "To enable the following instructions: AVX2 FMA, in other operations, rebuild TensorFlow with the appropriate compiler flags.\n",
            "/usr/local/lib/python3.11/dist-packages/torch/utils/data/dataloader.py:617: UserWarning: This DataLoader will create 4 worker processes in total. Our suggested max number of worker in current system is 2, which is smaller than what this DataLoader is going to create. Please be aware that excessive worker creation might get DataLoader running slow or even freeze, lower the worker number to avoid potential slowness/freeze if necessary.\n",
            "  warnings.warn(\n",
            "--- Logging error ---\n",
            "Traceback (most recent call last):\n",
            "  File \"/usr/lib/python3.11/logging/__init__.py\", line 1110, in emit\n",
            "    msg = self.format(record)\n",
            "          ^^^^^^^^^^^^^^^^^^^\n",
            "  File \"/usr/lib/python3.11/logging/__init__.py\", line 953, in format\n",
            "    return fmt.format(record)\n",
            "           ^^^^^^^^^^^^^^^^^^\n",
            "  File \"/usr/lib/python3.11/logging/__init__.py\", line 687, in format\n",
            "    record.message = record.getMessage()\n",
            "                     ^^^^^^^^^^^^^^^^^^^\n",
            "  File \"/usr/lib/python3.11/logging/__init__.py\", line 375, in getMessage\n",
            "    msg = str(self.msg)\n",
            "          ^^^^^^^^^^^^^\n",
            "  File \"/content/BayeSeg/utils.py\", line 106, in __str__\n",
            "    loss_str.append(\"{}: {}\".format(name, str(meter)))\n",
            "                                          ^^^^^^^^^^\n",
            "  File \"/content/BayeSeg/utils.py\", line 76, in __str__\n",
            "    global_avg=self.global_avg,\n",
            "               ^^^^^^^^^^^^^^^\n",
            "  File \"/content/BayeSeg/utils.py\", line 62, in global_avg\n",
            "    return self.total / self.count\n",
            "           ~~~~~~~~~~~^~~~~~~~~~~~\n",
            "ZeroDivisionError: float division by zero\n",
            "Call stack:\n",
            "  File \"/content/BayeSeg/train.py\", line 276, in <module>\n",
            "    trainer.train()\n",
            "  File \"/content/BayeSeg/train.py\", line 97, in train\n",
            "    train_stats = self.train_one_epoch()\n",
            "  File \"/content/BayeSeg/train.py\", line 171, in train_one_epoch\n",
            "    self.logger.info(metric_logger)\n",
            "Message: <utils.MetricLogger object at 0x78fde2c1b4d0>\n",
            "Arguments: ()\n",
            "Traceback (most recent call last):\n",
            "  File \"/content/BayeSeg/train.py\", line 276, in <module>\n",
            "    trainer.train()\n",
            "  File \"/content/BayeSeg/train.py\", line 97, in train\n",
            "    train_stats = self.train_one_epoch()\n",
            "                  ^^^^^^^^^^^^^^^^^^^^^^\n",
            "  File \"/content/BayeSeg/train.py\", line 172, in train_one_epoch\n",
            "    stats = {k: meter.global_avg for k, meter in metric_logger.meters.items()}\n",
            "            ^^^^^^^^^^^^^^^^^^^^^^^^^^^^^^^^^^^^^^^^^^^^^^^^^^^^^^^^^^^^^^^^^^\n",
            "  File \"/content/BayeSeg/train.py\", line 172, in <dictcomp>\n",
            "    stats = {k: meter.global_avg for k, meter in metric_logger.meters.items()}\n",
            "                ^^^^^^^^^^^^^^^^\n",
            "  File \"/content/BayeSeg/utils.py\", line 62, in global_avg\n",
            "    return self.total / self.count\n",
            "           ~~~~~~~~~~~^~~~~~~~~~~~\n",
            "ZeroDivisionError: float division by zero\n"
          ]
        }
      ]
    },
    {
      "cell_type": "code",
      "source": [
        "%%writefile setup.sh\n",
        "\n",
        "git clone https://github.com/NVIDIA/apex\n",
        "cd apex\n",
        "pip install -v --disable-pip-version-check --no-cache-dir --global-option=\"--cpp_ext\" --global-option=\"--cuda_ext\" ./"
      ],
      "metadata": {
        "colab": {
          "base_uri": "https://localhost:8080/"
        },
        "id": "27BZzZrnsNso",
        "outputId": "b81ecc3f-e651-4d85-9824-e21ca9834833"
      },
      "execution_count": 19,
      "outputs": [
        {
          "output_type": "stream",
          "name": "stdout",
          "text": [
            "Overwriting setup.sh\n"
          ]
        }
      ]
    },
    {
      "cell_type": "code",
      "source": [
        "!sh setup.sh\n"
      ],
      "metadata": {
        "id": "XYUl9tpesuxQ"
      },
      "execution_count": null,
      "outputs": []
    },
    {
      "cell_type": "code",
      "source": [
        "!python train.py --output_dir logs/BayeSeg --dataset_dir /content/BayeSeg/BMC/"
      ],
      "metadata": {
        "colab": {
          "base_uri": "https://localhost:8080/"
        },
        "id": "c64Wu0tWsyBq",
        "outputId": "c975c0cb-c3c7-4380-aa96-04272a527707"
      },
      "execution_count": 23,
      "outputs": [
        {
          "output_type": "stream",
          "name": "stdout",
          "text": [
            "2025-02-26 10:31:28.832060: E external/local_xla/xla/stream_executor/cuda/cuda_fft.cc:477] Unable to register cuFFT factory: Attempting to register factory for plugin cuFFT when one has already been registered\n",
            "WARNING: All log messages before absl::InitializeLog() is called are written to STDERR\n",
            "E0000 00:00:1740565888.853687    8554 cuda_dnn.cc:8310] Unable to register cuDNN factory: Attempting to register factory for plugin cuDNN when one has already been registered\n",
            "E0000 00:00:1740565888.860253    8554 cuda_blas.cc:1418] Unable to register cuBLAS factory: Attempting to register factory for plugin cuBLAS when one has already been registered\n",
            "2025-02-26 10:31:28.881196: I tensorflow/core/platform/cpu_feature_guard.cc:210] This TensorFlow binary is optimized to use available CPU instructions in performance-critical operations.\n",
            "To enable the following instructions: AVX2 FMA, in other operations, rebuild TensorFlow with the appropriate compiler flags.\n",
            "/usr/local/lib/python3.11/dist-packages/torch/utils/data/dataloader.py:617: UserWarning: This DataLoader will create 4 worker processes in total. Our suggested max number of worker in current system is 2, which is smaller than what this DataLoader is going to create. Please be aware that excessive worker creation might get DataLoader running slow or even freeze, lower the worker number to avoid potential slowness/freeze if necessary.\n",
            "  warnings.warn(\n",
            "--- Logging error ---\n",
            "Traceback (most recent call last):\n",
            "  File \"/usr/lib/python3.11/logging/__init__.py\", line 1110, in emit\n",
            "    msg = self.format(record)\n",
            "          ^^^^^^^^^^^^^^^^^^^\n",
            "  File \"/usr/lib/python3.11/logging/__init__.py\", line 953, in format\n",
            "    return fmt.format(record)\n",
            "           ^^^^^^^^^^^^^^^^^^\n",
            "  File \"/usr/lib/python3.11/logging/__init__.py\", line 687, in format\n",
            "    record.message = record.getMessage()\n",
            "                     ^^^^^^^^^^^^^^^^^^^\n",
            "  File \"/usr/lib/python3.11/logging/__init__.py\", line 375, in getMessage\n",
            "    msg = str(self.msg)\n",
            "          ^^^^^^^^^^^^^\n",
            "  File \"/content/BayeSeg/utils.py\", line 106, in __str__\n",
            "    loss_str.append(\"{}: {}\".format(name, str(meter)))\n",
            "                                          ^^^^^^^^^^\n",
            "  File \"/content/BayeSeg/utils.py\", line 76, in __str__\n",
            "    global_avg=self.global_avg,\n",
            "               ^^^^^^^^^^^^^^^\n",
            "  File \"/content/BayeSeg/utils.py\", line 62, in global_avg\n",
            "    return self.total / self.count\n",
            "           ~~~~~~~~~~~^~~~~~~~~~~~\n",
            "ZeroDivisionError: float division by zero\n",
            "Call stack:\n",
            "  File \"/content/BayeSeg/train.py\", line 276, in <module>\n",
            "    trainer.train()\n",
            "  File \"/content/BayeSeg/train.py\", line 97, in train\n",
            "    train_stats = self.train_one_epoch()\n",
            "  File \"/content/BayeSeg/train.py\", line 171, in train_one_epoch\n",
            "    self.logger.info(metric_logger)\n",
            "Message: <utils.MetricLogger object at 0x7a82fc073f50>\n",
            "Arguments: ()\n",
            "Traceback (most recent call last):\n",
            "  File \"/content/BayeSeg/train.py\", line 276, in <module>\n",
            "    trainer.train()\n",
            "  File \"/content/BayeSeg/train.py\", line 97, in train\n",
            "    train_stats = self.train_one_epoch()\n",
            "                  ^^^^^^^^^^^^^^^^^^^^^^\n",
            "  File \"/content/BayeSeg/train.py\", line 172, in train_one_epoch\n",
            "    stats = {k: meter.global_avg for k, meter in metric_logger.meters.items()}\n",
            "            ^^^^^^^^^^^^^^^^^^^^^^^^^^^^^^^^^^^^^^^^^^^^^^^^^^^^^^^^^^^^^^^^^^\n",
            "  File \"/content/BayeSeg/train.py\", line 172, in <dictcomp>\n",
            "    stats = {k: meter.global_avg for k, meter in metric_logger.meters.items()}\n",
            "                ^^^^^^^^^^^^^^^^\n",
            "  File \"/content/BayeSeg/utils.py\", line 62, in global_avg\n",
            "    return self.total / self.count\n",
            "           ~~~~~~~~~~~^~~~~~~~~~~~\n",
            "ZeroDivisionError: float division by zero\n"
          ]
        }
      ]
    },
    {
      "cell_type": "code",
      "source": [],
      "metadata": {
        "id": "KreADizotBrc"
      },
      "execution_count": null,
      "outputs": []
    }
  ]
}